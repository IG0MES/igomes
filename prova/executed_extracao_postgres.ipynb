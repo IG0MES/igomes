{
 "cells": [
  {
   "cell_type": "code",
   "execution_count": 1,
   "id": "2a296a64-4c7b-4078-93a1-1c16ac1efd21",
   "metadata": {
    "execution": {
     "iopub.execute_input": "2025-04-26T16:13:17.983508Z",
     "iopub.status.busy": "2025-04-26T16:13:17.983291Z",
     "iopub.status.idle": "2025-04-26T16:13:18.281201Z",
     "shell.execute_reply": "2025-04-26T16:13:18.280408Z"
    }
   },
   "outputs": [],
   "source": [
    "from pyspark.sql import SparkSession"
   ]
  },
  {
   "cell_type": "code",
   "execution_count": 2,
   "id": "a60651fd-4293-4ecd-9395-722f0c706a22",
   "metadata": {
    "execution": {
     "iopub.execute_input": "2025-04-26T16:13:18.284112Z",
     "iopub.status.busy": "2025-04-26T16:13:18.283839Z",
     "iopub.status.idle": "2025-04-26T16:13:24.615847Z",
     "shell.execute_reply": "2025-04-26T16:13:24.614399Z"
    }
   },
   "outputs": [],
   "source": [
    "spark = SparkSession.builder \\\n",
    "    .appName(\"ExtracaoPostgreSQL\") \\\n",
    "    .config(\"spark.jars.packages\", \"org.postgresql:postgresql:42.6.0,org.apache.hadoop:hadoop-aws:3.3.1,com.amazonaws:aws-java-sdk-bundle:1.11.1026\") \\\n",
    "    .config(\"fs.s3a.impl\", \"org.apache.hadoop.fs.s3a.S3AFileSystem\") \\\n",
    "    .config(\"fs.s3a.endpoint\", \"http://minio:9000\") \\\n",
    "    .config(\"fs.s3a.access.key\", \"minioaccesskey\") \\\n",
    "    .config(\"fs.s3a.secret.key\", \"miniosecretkey\") \\\n",
    "    .config(\"fs.s3a.path.style.access\", \"true\") \\\n",
    "    .config(\"fs.s3a.region\", \"us-east-1\") \\\n",
    "    .getOrCreate()"
   ]
  },
  {
   "cell_type": "code",
   "execution_count": 3,
   "id": "f54cea5e-691e-4c12-a5c5-71fd38660802",
   "metadata": {
    "execution": {
     "iopub.execute_input": "2025-04-26T16:13:24.620328Z",
     "iopub.status.busy": "2025-04-26T16:13:24.619745Z",
     "iopub.status.idle": "2025-04-26T16:13:24.624330Z",
     "shell.execute_reply": "2025-04-26T16:13:24.623473Z"
    }
   },
   "outputs": [],
   "source": [
    "jdbc_url = \"jdbc:postgresql://postgres:5432/prova\"\n",
    "connection_properties = {\n",
    "    \"user\": \"postgres\",\n",
    "    \"password\": \"password\",\n",
    "    \"driver\": \"org.postgresql.Driver\"\n",
    "}"
   ]
  },
  {
   "cell_type": "code",
   "execution_count": 4,
   "id": "bfcf6182-89e3-4300-a030-2f28002d9cef",
   "metadata": {
    "execution": {
     "iopub.execute_input": "2025-04-26T16:13:24.626682Z",
     "iopub.status.busy": "2025-04-26T16:13:24.626458Z",
     "iopub.status.idle": "2025-04-26T16:13:26.530550Z",
     "shell.execute_reply": "2025-04-26T16:13:26.528962Z"
    }
   },
   "outputs": [],
   "source": [
    "df_alunos = spark.read.jdbc(url=jdbc_url, table=\"alunos\", properties=connection_properties)"
   ]
  },
  {
   "cell_type": "code",
   "execution_count": 5,
   "id": "8b0d9efc-742a-4c6b-a2f7-9c259b0adf51",
   "metadata": {
    "execution": {
     "iopub.execute_input": "2025-04-26T16:13:26.539172Z",
     "iopub.status.busy": "2025-04-26T16:13:26.538153Z",
     "iopub.status.idle": "2025-04-26T16:13:26.627560Z",
     "shell.execute_reply": "2025-04-26T16:13:26.626136Z"
    }
   },
   "outputs": [],
   "source": [
    "df_matriculas = spark.read.jdbc(url=jdbc_url, table=\"matriculas\", properties=connection_properties)"
   ]
  },
  {
   "cell_type": "code",
   "execution_count": 6,
   "id": "7f316dea-f211-4746-81d5-b2660a02d45c",
   "metadata": {
    "execution": {
     "iopub.execute_input": "2025-04-26T16:13:26.633137Z",
     "iopub.status.busy": "2025-04-26T16:13:26.632087Z",
     "iopub.status.idle": "2025-04-26T16:13:26.636867Z",
     "shell.execute_reply": "2025-04-26T16:13:26.635807Z"
    }
   },
   "outputs": [],
   "source": [
    "bucket_bronze = \"bronze\""
   ]
  },
  {
   "cell_type": "code",
   "execution_count": 7,
   "id": "908deb70-7f86-4a57-a327-bc892afef0b4",
   "metadata": {
    "execution": {
     "iopub.execute_input": "2025-04-26T16:13:26.640225Z",
     "iopub.status.busy": "2025-04-26T16:13:26.639810Z",
     "iopub.status.idle": "2025-04-26T16:13:30.599667Z",
     "shell.execute_reply": "2025-04-26T16:13:30.598868Z"
    }
   },
   "outputs": [],
   "source": [
    "path_alunos_bronze = f\"s3a://{bucket_bronze}/alunos\"\n",
    "df_alunos.write.mode(\"overwrite\").parquet(path_alunos_bronze)"
   ]
  },
  {
   "cell_type": "code",
   "execution_count": 8,
   "id": "97ab3bef-1d0d-4e64-a453-ff55ccee6078",
   "metadata": {
    "execution": {
     "iopub.execute_input": "2025-04-26T16:13:30.602658Z",
     "iopub.status.busy": "2025-04-26T16:13:30.602358Z",
     "iopub.status.idle": "2025-04-26T16:13:31.135483Z",
     "shell.execute_reply": "2025-04-26T16:13:31.134576Z"
    }
   },
   "outputs": [],
   "source": [
    "path_matriculas_bronze = f\"s3a://{bucket_bronze}/matriculas\"\n",
    "df_matriculas.write.mode(\"overwrite\").parquet(path_matriculas_bronze)"
   ]
  },
  {
   "cell_type": "code",
   "execution_count": null,
   "id": "69f60b03-456a-4aa6-bdc6-5cd1f8b1c5fd",
   "metadata": {},
   "outputs": [],
   "source": []
  }
 ],
 "metadata": {
  "kernelspec": {
   "display_name": "Python 3 (ipykernel)",
   "language": "python",
   "name": "python3"
  },
  "language_info": {
   "codemirror_mode": {
    "name": "ipython",
    "version": 3
   },
   "file_extension": ".py",
   "mimetype": "text/x-python",
   "name": "python",
   "nbconvert_exporter": "python",
   "pygments_lexer": "ipython3",
   "version": "3.11.6"
  }
 },
 "nbformat": 4,
 "nbformat_minor": 5
}
