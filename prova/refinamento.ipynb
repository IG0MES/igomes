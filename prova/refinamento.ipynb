{
 "cells": [
  {
   "cell_type": "code",
   "execution_count": 5,
   "id": "d93a1b30-1b5d-4c7a-8eca-3fe65f45fd5d",
   "metadata": {},
   "outputs": [],
   "source": [
    "# Devido alguns travamentos constantes da plataforma alguns dos codigos foram perdidos, e não deu tempo de refazelos.# Configurar os nomes dos buckets\n",
    "# Consegui uma forma de recuperar todos os codigos digitados aqui no Jupyter notebook, eles estão no arquivo do notebook \"filename\""
   ]
  },
  {
   "cell_type": "code",
   "execution_count": null,
   "id": "35600c01-c1f6-4cd3-96ce-cbed5aab3924",
   "metadata": {},
   "outputs": [],
   "source": []
  }
 ],
 "metadata": {
  "kernelspec": {
   "display_name": "Python 3 (ipykernel)",
   "language": "python",
   "name": "python3"
  },
  "language_info": {
   "codemirror_mode": {
    "name": "ipython",
    "version": 3
   },
   "file_extension": ".py",
   "mimetype": "text/x-python",
   "name": "python",
   "nbconvert_exporter": "python",
   "pygments_lexer": "ipython3",
   "version": "3.11.6"
  }
 },
 "nbformat": 4,
 "nbformat_minor": 5
}
