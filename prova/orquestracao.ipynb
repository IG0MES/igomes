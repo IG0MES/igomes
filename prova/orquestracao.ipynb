{
 "cells": [
  {
   "cell_type": "code",
   "execution_count": 1,
   "id": "d7ea2731-7eb0-4a9f-8184-630b459632d8",
   "metadata": {},
   "outputs": [],
   "source": [
    "import subprocess\n",
    "import os"
   ]
  },
  {
   "cell_type": "code",
   "execution_count": 2,
   "id": "ab94bee1-3415-4045-af90-7380a10b572e",
   "metadata": {},
   "outputs": [],
   "source": [
    "def executar_notebook(notebook_path):\n",
    "    comando_ls = [\"ls\", \"-l\", \".\"]\n",
    "    print(f\"Testando listagem do diretório: {' '.join(comando_ls)}\")\n",
    "    try:\n",
    "        result_ls = subprocess.run(comando_ls, check=True, capture_output=True, text=True)\n",
    "        print(f\"Saída da listagem:\\n{result_ls.stdout}\")\n",
    "    except subprocess.CalledProcessError as e:\n",
    "        print(f\"Erro ao listar o diretório: {e}\")\n",
    "        print(f\"Stderr da listagem:\\n{e.stderr}\")\n",
    "        return False\n",
    "\n",
    "    comando_nbconvert = [\"jupyter\", \"nbconvert\", \"--to\", \"notebook\", \"--execute\", notebook_path, \"--output\", f\"executed_{os.path.basename(notebook_path)}\"]\n",
    "    print(f\"Executando comando nbconvert: {' '.join(comando_nbconvert)}\")\n",
    "    try:\n",
    "        result_nbconvert = subprocess.run(comando_nbconvert, check=True, capture_output=True, text=True)\n",
    "        print(f\"Notebook {notebook_path} executado com sucesso.\")\n",
    "        print(f\"Saída nbconvert:\\n{result_nbconvert.stdout}\")\n",
    "        return True\n",
    "    except subprocess.CalledProcessError as e:\n",
    "        print(f\"Erro ao executar o notebook {notebook_path}: {e}\")\n",
    "        print(f\"Stderr nbconvert:\\n{e.stderr}\")\n",
    "        return False"
   ]
  },
  {
   "cell_type": "code",
   "execution_count": 3,
   "id": "5e5e98ed-ad91-4ea7-96a9-71f48287f416",
   "metadata": {},
   "outputs": [
    {
     "name": "stdout",
     "output_type": "stream",
     "text": [
      "Diretório de trabalho do script: /home/jovyan/notebooks\n"
     ]
    }
   ],
   "source": [
    "print(f\"Diretório de trabalho do script: {os.getcwd()}\")"
   ]
  },
  {
   "cell_type": "code",
   "execution_count": 4,
   "id": "7c30f853-e7fc-4c52-b24a-2bc1d4c1ae11",
   "metadata": {},
   "outputs": [
    {
     "name": "stdout",
     "output_type": "stream",
     "text": [
      "Testando listagem do diretório: ls -l .\n",
      "Saída da listagem:\n",
      "total 24\n",
      "-rw-r--r-- 1 jovyan users  617 Apr 26 16:11 carga_dw.ipynb\n",
      "drwxrwxrwx 1 root   root   512 Apr 26 12:16 dados\n",
      "-rw-r--r-- 1 jovyan users 3421 Apr 26 15:29 extracao_postgres.ipynb\n",
      "drwxrwxrwx 1 root   root   512 Apr 26 12:16 jars\n",
      "-rw-r--r-- 1 jovyan users 7532 Apr 26 16:03 orquestracao.ipynb\n",
      "-rw-r--r-- 1 jovyan users  617 Apr 26 16:07 refinamento.ipynb\n",
      "-rw-r--r-- 1 jovyan users  617 Apr 26 15:40 transformacao_alunos.ipynb\n",
      "\n",
      "Executando comando nbconvert: jupyter nbconvert --to notebook --execute extracao_postgres.ipynb --output executed_extracao_postgres.ipynb\n",
      "Notebook extracao_postgres.ipynb executado com sucesso.\n",
      "Saída nbconvert:\n",
      ":: loading settings :: url = jar:file:/usr/local/spark-3.5.0-bin-hadoop3/jars/ivy-2.5.1.jar!/org/apache/ivy/core/settings/ivysettings.xml\n",
      "\n",
      "Testando listagem do diretório: ls -l .\n",
      "Saída da listagem:\n",
      "total 32\n",
      "-rw-r--r-- 1 jovyan users  617 Apr 26 16:11 carga_dw.ipynb\n",
      "drwxrwxrwx 1 root   root   512 Apr 26 12:16 dados\n",
      "-rw-r--r-- 1 jovyan users 5501 Apr 26 16:13 executed_extracao_postgres.ipynb\n",
      "-rw-r--r-- 1 jovyan users 3421 Apr 26 15:29 extracao_postgres.ipynb\n",
      "drwxrwxrwx 1 root   root   512 Apr 26 12:16 jars\n",
      "-rw-r--r-- 1 jovyan users 7532 Apr 26 16:03 orquestracao.ipynb\n",
      "-rw-r--r-- 1 jovyan users  617 Apr 26 16:07 refinamento.ipynb\n",
      "-rw-r--r-- 1 jovyan users  617 Apr 26 15:40 transformacao_alunos.ipynb\n",
      "\n",
      "Executando comando nbconvert: jupyter nbconvert --to notebook --execute transformacao_alunos.ipynb --output executed_transformacao_alunos.ipynb\n",
      "Notebook transformacao_alunos.ipynb executado com sucesso.\n",
      "Saída nbconvert:\n",
      "\n",
      "Testando listagem do diretório: ls -l .\n",
      "Saída da listagem:\n",
      "total 36\n",
      "-rw-r--r-- 1 jovyan users  617 Apr 26 16:11 carga_dw.ipynb\n",
      "drwxrwxrwx 1 root   root   512 Apr 26 12:16 dados\n",
      "-rw-r--r-- 1 jovyan users 5501 Apr 26 16:13 executed_extracao_postgres.ipynb\n",
      "-rw-r--r-- 1 jovyan users  617 Apr 26 16:13 executed_transformacao_alunos.ipynb\n",
      "-rw-r--r-- 1 jovyan users 3421 Apr 26 15:29 extracao_postgres.ipynb\n",
      "drwxrwxrwx 1 root   root   512 Apr 26 12:16 jars\n",
      "-rw-r--r-- 1 jovyan users 7532 Apr 26 16:03 orquestracao.ipynb\n",
      "-rw-r--r-- 1 jovyan users  617 Apr 26 16:07 refinamento.ipynb\n",
      "-rw-r--r-- 1 jovyan users  617 Apr 26 15:40 transformacao_alunos.ipynb\n",
      "\n",
      "Executando comando nbconvert: jupyter nbconvert --to notebook --execute refinamento.ipynb --output executed_refinamento.ipynb\n",
      "Notebook refinamento.ipynb executado com sucesso.\n",
      "Saída nbconvert:\n",
      "\n",
      "Testando listagem do diretório: ls -l .\n",
      "Saída da listagem:\n",
      "total 40\n",
      "-rw-r--r-- 1 jovyan users  617 Apr 26 16:11 carga_dw.ipynb\n",
      "drwxrwxrwx 1 root   root   512 Apr 26 12:16 dados\n",
      "-rw-r--r-- 1 jovyan users 5501 Apr 26 16:13 executed_extracao_postgres.ipynb\n",
      "-rw-r--r-- 1 jovyan users  617 Apr 26 16:13 executed_refinamento.ipynb\n",
      "-rw-r--r-- 1 jovyan users  617 Apr 26 16:13 executed_transformacao_alunos.ipynb\n",
      "-rw-r--r-- 1 jovyan users 3421 Apr 26 15:29 extracao_postgres.ipynb\n",
      "drwxrwxrwx 1 root   root   512 Apr 26 12:16 jars\n",
      "-rw-r--r-- 1 jovyan users 7532 Apr 26 16:03 orquestracao.ipynb\n",
      "-rw-r--r-- 1 jovyan users  617 Apr 26 16:07 refinamento.ipynb\n",
      "-rw-r--r-- 1 jovyan users  617 Apr 26 15:40 transformacao_alunos.ipynb\n",
      "\n",
      "Executando comando nbconvert: jupyter nbconvert --to notebook --execute carga_dw.ipynb --output executed_carga_dw.ipynb\n",
      "Notebook carga_dw.ipynb executado com sucesso.\n",
      "Saída nbconvert:\n",
      "\n",
      "Pipeline completo executado com sucesso!\n"
     ]
    }
   ],
   "source": [
    "if __name__ == \"__main__\":\n",
    "    extracao_path = \"extracao_postgres.ipynb\"\n",
    "    transformacao_path = \"transformacao_alunos.ipynb\"\n",
    "    refinamento_path = \"refinamento.ipynb\"\n",
    "    carga_path = \"carga_dw.ipynb\"\n",
    "\n",
    "    extracao_status = executar_notebook(extracao_path)\n",
    "    if extracao_status:\n",
    "        transformacao_status = executar_notebook(transformacao_path)\n",
    "        if transformacao_status:\n",
    "            refinamento_status = executar_notebook(refinamento_path)\n",
    "            if refinamento_status:\n",
    "                carga_status = executar_notebook(carga_path)\n",
    "                if carga_status:\n",
    "                    print(\"Pipeline completo executado com sucesso!\")\n",
    "                else:\n",
    "                    print(\"Falha na etapa de Carga.\")\n",
    "            else:\n",
    "                print(\"Falha na etapa de Refinamento.\")\n",
    "        else:\n",
    "            print(\"Falha na etapa de Transformação.\")\n",
    "    else:\n",
    "        print(\"Falha na etapa de Extração.\")"
   ]
  },
  {
   "cell_type": "code",
   "execution_count": null,
   "id": "a44e63d8-ca5d-4a57-a915-f0f426a1efda",
   "metadata": {},
   "outputs": [],
   "source": []
  }
 ],
 "metadata": {
  "kernelspec": {
   "display_name": "Python 3 (ipykernel)",
   "language": "python",
   "name": "python3"
  },
  "language_info": {
   "codemirror_mode": {
    "name": "ipython",
    "version": 3
   },
   "file_extension": ".py",
   "mimetype": "text/x-python",
   "name": "python",
   "nbconvert_exporter": "python",
   "pygments_lexer": "ipython3",
   "version": "3.11.6"
  }
 },
 "nbformat": 4,
 "nbformat_minor": 5
}
